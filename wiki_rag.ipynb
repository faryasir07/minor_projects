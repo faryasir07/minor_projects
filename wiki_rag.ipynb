{
 "cells": [
  {
   "cell_type": "markdown",
   "id": "dc28f7d2",
   "metadata": {},
   "source": [
    "wikipedia document accessing via wikipedialoader"
   ]
  },
  {
   "cell_type": "code",
   "execution_count": null,
   "id": "e6869948",
   "metadata": {},
   "outputs": [],
   "source": [
    "from langchain.document_loaders import WikipediaLoader\n",
    "wiki=WikipediaLoader(query=\"cricket\",load_max_docs=3,doc_content_chars_max=500).load()"
   ]
  },
  {
   "cell_type": "code",
   "execution_count": 9,
   "id": "ee981773",
   "metadata": {},
   "outputs": [
    {
     "data": {
      "text/plain": [
       "3"
      ]
     },
     "execution_count": 9,
     "metadata": {},
     "output_type": "execute_result"
    }
   ],
   "source": [
    "len(wiki)"
   ]
  },
  {
   "cell_type": "code",
   "execution_count": 10,
   "id": "ea6a3a35",
   "metadata": {},
   "outputs": [
    {
     "data": {
      "text/plain": [
       "Document(metadata={'title': 'Cricket', 'summary': 'Cricket is a bat-and-ball game played between two teams of eleven players on a field, at the centre of which is a 22-yard (20-metre; 66-foot) pitch with a wicket at each end, each comprising two bails (small sticks) balanced on three stumps. Two players from the batting team, the striker and nonstriker, stand in front of either wicket holding bats, while one player from the fielding team, the bowler, bowls the ball toward the striker\\'s wicket from the opposite end of the pitch. The striker\\'s goal is to hit the bowled ball with the bat and then switch places with the nonstriker, with the batting team scoring one run for each of these swaps. Runs are also scored when the ball reaches the boundary of the field or when the ball is bowled illegally.\\nThe fielding team aims to prevent runs by dismissing batters (so they are \"out\"). Dismissal can occur in various ways, including being bowled (when the ball hits the striker\\'s wicket and dislodges the bails), and by the fielding side either catching the ball after it is hit by the bat but before it hits the ground, or hitting a wicket with the ball before a batter can cross the crease line in front of the wicket. When ten batters have been dismissed, the innings (playing phase) ends and the teams swap roles. Forms of cricket range from traditional Test matches played over five days to the newer Twenty20 format (also known as T20), in which each team bats for a single innings of 20 overs (each \"over\" being a set of 6 fair opportunities for the batting team to score) and the game generally lasts three to four hours.\\nTraditionally, cricketers play in all-white kit, but in limited overs cricket, they wear club or team colours. In addition to the basic kit, some players wear protective gear to prevent injury caused by the ball, which is a hard, solid spheroid made of compressed leather with a slightly raised sewn seam enclosing a cork core layered with tightly wound string.\\nThe earliest known definite reference to cricket is to it being played in South East England in the mid-16th century. It spread globally with the expansion of the British Empire, with the first international matches in the second half of the 19th century. The game\\'s governing body is the International Cricket Council (ICC), which has over 100 members, twelve of which are full members who play Test matches. The game\\'s rules, the Laws of Cricket, are maintained by Marylebone Cricket Club (MCC) in London. The sport is followed primarily in South Asia, Australia, New Zealand, the United Kingdom, Southern Africa, and the West Indies.\\nWhile traditionally, cricket has largely been played by men, Women\\'s cricket has experienced large growth in the 21st century.\\nThe most successful side playing international cricket is Australia, which has won eight One Day International trophies, including six World Cups, more than any other country, and has been the top-rated Test side more than any other country.', 'source': 'https://en.wikipedia.org/wiki/Cricket'}, page_content=\"Cricket is a bat-and-ball game played between two teams of eleven players on a field, at the centre of which is a 22-yard (20-metre; 66-foot) pitch with a wicket at each end, each comprising two bails (small sticks) balanced on three stumps. Two players from the batting team, the striker and nonstriker, stand in front of either wicket holding bats, while one player from the fielding team, the bowler, bowls the ball toward the striker's wicket from the opposite end of the pitch. The striker's goa\")"
      ]
     },
     "execution_count": 10,
     "metadata": {},
     "output_type": "execute_result"
    }
   ],
   "source": [
    "wiki[0]"
   ]
  },
  {
   "cell_type": "markdown",
   "id": "014bae63",
   "metadata": {},
   "source": [
    "Splitting"
   ]
  },
  {
   "cell_type": "code",
   "execution_count": 11,
   "id": "19b2df0f",
   "metadata": {},
   "outputs": [
    {
     "data": {
      "text/plain": [
       "'Cricket is a bat-and-ball game played between two teams of eleven players on a field, at the centre of which is a 22-yard (20-metre; 66-foot) pitch with a wicket at each end, each'"
      ]
     },
     "execution_count": 11,
     "metadata": {},
     "output_type": "execute_result"
    }
   ],
   "source": [
    "from langchain.text_splitter import RecursiveCharacterTextSplitter\n",
    "split=RecursiveCharacterTextSplitter(\n",
    "    chunk_size=180,\n",
    "    chunk_overlap=20,\n",
    "    is_separator_regex=False\n",
    ")\n",
    "chunk=split.split_documents(wiki)\n",
    "chunk[0].page_content"
   ]
  },
  {
   "cell_type": "code",
   "execution_count": 12,
   "id": "8de05a81",
   "metadata": {},
   "outputs": [
    {
     "data": {
      "text/plain": [
       "12"
      ]
     },
     "execution_count": 12,
     "metadata": {},
     "output_type": "execute_result"
    }
   ],
   "source": [
    "len(chunk)"
   ]
  },
  {
   "cell_type": "markdown",
   "id": "a04ba67e",
   "metadata": {},
   "source": [
    "Embedding of the chunks"
   ]
  },
  {
   "cell_type": "code",
   "execution_count": 13,
   "id": "3c5afaaf",
   "metadata": {},
   "outputs": [
    {
     "name": "stdout",
     "output_type": "stream",
     "text": [
      "[0.043549545109272, 0.02387721836566925, -0.04524128511548042, 0.03540496155619621, -0.016651012003421783, -0.06554818898439407, 0.07626007497310638, 0.00994044914841652, -0.0019632368348538876, -0.027022695168852806, 0.007385569158941507, -0.12068236619234085, 0.06404842436313629, -0.06795038282871246, 0.03638887405395508, -0.07807772606611252, 0.03318418189883232, 0.0817556381225586, 0.07336150854825974, -0.07802224159240723, -0.02092118002474308, 0.03573280945420265, -0.008563278242945671, -0.03745512664318085, 0.0004388520901557058, 0.053464241325855255, 0.005293617025017738, -0.01687048189342022, -0.00041303757461719215, 0.0010301506845280528, 0.06669680029153824, 0.004223237279802561, -0.022522618994116783, -0.0021015736274421215, -0.055947814136743546, 0.016869986429810524, -0.1295161098241806, 0.06496334075927734, 0.17288090288639069, -0.11778350919485092, 0.03644102066755295, -0.0006774819921702147, 0.07786677032709122, -0.0281674861907959, 0.03655534237623215, -0.023698827251791954, -0.027902118861675262, -0.004656870849430561, -0.011188901029527187, -0.026496075093746185, 0.06156330928206444, -0.04817720130085945, -0.07787911593914032, 0.0331384539604187, 0.02449953183531761, 0.04385216906666756, -0.032409217208623886, -0.04225398972630501, -0.004053807817399502, 0.03011850081384182, -0.013642501085996628, 0.04302974417805672, -0.024779822677373886, 0.022215474396944046, 0.08757306635379791, 0.012538710609078407, 0.03828103840351105, -0.015482515096664429, 0.01403544656932354, -0.020649686455726624, 0.016255753114819527, -0.012246191501617432, 0.02638866938650608, 0.017048854380846024, -0.012853038497269154, -0.07506394386291504, -0.03262094408273697, 0.07490301877260208, 0.014196816831827164, 0.03280465677380562, -0.0181645005941391, 0.02851245179772377, 0.02803335338830948, 0.08259154856204987, -0.09775902330875397, 0.00871410220861435, -0.04082164913415909, -0.016069699078798294, -0.0035580520052462816, -0.0432528480887413, 0.06346110254526138, 0.07535666972398758, -0.06780534982681274, 0.0011725994991138577, -0.06065615266561508, -0.03554674983024597, -0.07726340740919113, 0.049065593630075455, -0.018732380121946335, 0.023686271160840988, 0.022150341421365738, -0.029883749783039093, -0.09658297151327133, 0.015421733260154724, -0.051165543496608734, -0.07261940836906433, 0.05539090186357498, -0.07977940142154694, 0.0074155922047793865, -0.015443786978721619, -0.05476996302604675, 0.012057418935000896, -0.048711422830820084, -0.04038207232952118, -0.00039239245234057307, 0.01843186654150486, 0.018278248608112335, -0.011221254244446754, -0.021244285628199577, -0.022548219189047813, -0.07889119535684586, 0.023742064833641052, -0.018363390117883682, -0.0690629780292511, -0.06974612921476364, -0.10756158083677292, -0.03640317916870117, -6.297902737046383e-33, -0.1043238639831543, -0.030779313296079636, 0.07788906991481781, 0.06358228623867035, -0.001861648983322084, 0.03996853157877922, 0.057966168969869614, -0.08833270519971848, -0.0035982111003249884, -0.06283362209796906, 0.010787950828671455, -0.14935797452926636, -0.008195611648261547, -0.10685470700263977, 0.08566789329051971, 0.023375598713755608, 0.02114626206457615, -0.003101659007370472, -0.010256237350404263, 0.008449816145002842, -0.028259294107556343, -0.019984224811196327, 0.006321839988231659, -0.06097573786973953, 0.061109140515327454, -0.021712152287364006, 0.046534232795238495, 0.053876765072345734, 0.053162530064582825, 0.019443292170763016, 0.02563926763832569, 0.08828634768724442, -0.016172336414456367, 0.02748645469546318, 0.009730413556098938, 0.0025386023335158825, 0.01886850781738758, 0.02468850277364254, 0.002854942111298442, 0.017087122425436974, -0.05583004280924797, 0.04480460658669472, -0.027244027704000473, -0.021476702764630318, -0.0016898855101317167, 0.08229091018438339, -0.02078116126358509, 0.058050934225320816, 0.0204946156591177, -0.004589520860463381, 0.002116966526955366, 0.01826975680887699, -0.012833978980779648, -0.037735190242528915, 0.02138688415288925, 0.12983766198158264, 0.009614374488592148, -0.031261760741472244, -0.011256339028477669, 0.1370287984609604, -0.017451191321015358, -0.05822719261050224, -0.0706297755241394, -0.005591657478362322, 0.0553361251950264, 0.14847785234451294, 0.012927657924592495, -0.05702592805027962, 0.07107031345367432, 0.05155332013964653, -0.02390860766172409, -0.03569605201482773, -0.039488956332206726, 0.07583913952112198, -0.06402729451656342, 0.07680176198482513, -0.010936998762190342, 0.014613451436161995, -0.07045851647853851, -0.007670184131711721, -0.005123601295053959, 0.036148760467767715, 0.01019283663481474, -0.04963319003582001, 0.11274449527263641, -0.08476679027080536, -0.10959212481975555, -0.03461669012904167, 0.05666515231132507, -0.04343040660023689, 0.027936935424804688, -0.09202227741479874, -0.03478807955980301, 0.06254851073026657, -0.06208035349845886, 2.3587838822294576e-33, 0.033153243362903595, -0.00970533024519682, -0.11694276332855225, 0.013170966878533363, -0.04350071772933006, 0.00190748181194067, 0.009509003721177578, -0.024365179240703583, 0.04922416806221008, 0.12387917935848236, -0.0071207196451723576, 0.06953421980142593, -0.05298224464058876, 0.07971493899822235, 0.029292043298482895, 0.02355179376900196, 0.042614907026290894, 0.035650596022605896, -0.054979439824819565, -0.04622744768857956, -0.042864955961704254, 0.045723579823970795, -0.04948357865214348, -0.07652963697910309, -0.07786128669977188, 0.026709450408816338, -0.1237654983997345, 0.05890468880534172, 0.0145516162738204, -0.02805296704173088, 0.029367702081799507, -0.08261466026306152, -0.003368233796209097, 0.04829065874218941, -0.020214876160025597, -0.008408868685364723, 0.10988893359899521, -0.013597340323030949, 0.053190287202596664, 0.013518029823899269, -0.05700979381799698, 0.07172366976737976, 0.07408220320940018, 0.023345591500401497, 0.042693451046943665, -0.08243823796510696, 0.05591727793216705, 0.013477593660354614, -0.055389925837516785, 0.01958499848842621, -0.026290329173207283, -0.127186581492424, 0.045534588396549225, -0.024639248847961426, -0.026916176080703735, 0.013093669898808002, -0.013960444368422031, 0.062449268996715546, 0.03771152347326279, -0.10924798995256424, 0.05280302092432976, 0.0153800705447793, -0.01584038697183132, 0.09190794080495834, -0.07513979822397232, 0.0031826761551201344, 0.003280116943642497, -0.010955543257296085, 0.05155448243021965, -0.02382167987525463, 0.024524830281734467, 0.013977068476378918, -0.10196371376514435, 0.01485969964414835, -0.03090796247124672, 0.05976174771785736, 0.07197421789169312, 0.03206148371100426, 0.034111104905605316, -0.008638285100460052, 0.026070956140756607, 0.08731301873922348, 0.02002646028995514, -0.0654727891087532, -0.013613063842058182, 0.03994840011000633, 0.05586398392915726, 0.010475398041307926, 0.02664121612906456, -0.028239373117685318, 0.0007876491290517151, 0.017443235963582993, 0.002430013380944729, 0.011373122222721577, -0.0005506682209670544, -1.692686346643768e-08, -0.028947390615940094, -0.04502143710851669, -0.0907493457198143, 0.05972711741924286, -0.0056931693106889725, -0.02952837198972702, 0.010947152972221375, -0.044926322996616364, 0.05865318328142166, -0.018177205696702003, -0.026116395369172096, -0.030409961938858032, -0.05980367958545685, -0.013380619697272778, -0.08792951703071594, 0.007009436376392841, -0.04276532307267189, -0.005255597177892923, 0.006126830819994211, -0.027342114597558975, -0.0002301806816831231, 0.009053371846675873, 0.027978548780083656, 0.023142922669649124, 0.06016796454787254, -0.068394236266613, 0.02354595996439457, 0.021900499239563942, -0.0064519112929701805, 0.0567411407828331, -0.0408407524228096, 0.009814760647714138, 0.002463277895003557, -0.06575264781713486, 0.024814795702695847, -0.00852597039192915, 0.061717912554740906, -0.036213163286447525, 0.059546563774347305, 0.05812806636095047, 0.007013570051640272, 0.004276209510862827, 0.0777934119105339, -0.016137752681970596, 0.04425200819969177, 0.01980883814394474, 0.06398853659629822, -0.04442448914051056, 0.03195621818304062, -0.09261336922645569, -0.1160738542675972, -0.0008845918346196413, 0.004384640604257584, -0.032253559678792953, -0.03854333609342575, 0.0091137969866395, -0.07360238581895828, 0.031208252534270287, -0.03782741725444794, -0.01149796787649393, 0.03067939169704914, 0.02599499188363552, 0.0471012257039547, 0.048659153282642365]\n"
     ]
    }
   ],
   "source": [
    "from langchain_huggingface import HuggingFaceEmbeddings\n",
    "embedding=HuggingFaceEmbeddings(model_name=\"sentence-transformers/all-MiniLM-L6-v2\")\n",
    "\n",
    "text=\"Delhi is the capital of India\"\n",
    "\n",
    "vector=embedding.embed_query(text)\n",
    "\n",
    "print(vector)"
   ]
  },
  {
   "cell_type": "markdown",
   "id": "efe237e6",
   "metadata": {},
   "source": [
    "Vector store"
   ]
  },
  {
   "cell_type": "code",
   "execution_count": 14,
   "id": "de38793c",
   "metadata": {},
   "outputs": [],
   "source": [
    "from langchain.vectorstores import FAISS\n",
    "vector_store=FAISS.from_documents(chunk,embedding)"
   ]
  },
  {
   "cell_type": "code",
   "execution_count": 19,
   "id": "c7e61003",
   "metadata": {},
   "outputs": [],
   "source": [
    "retriever=vector_store.as_retriever(search_type=\"mmr\",search_kwargs={\"k\":6})"
   ]
  },
  {
   "cell_type": "code",
   "execution_count": 20,
   "id": "494f8e22",
   "metadata": {},
   "outputs": [
    {
     "data": {
      "text/plain": [
       "[Document(id='b23b57d2-35a5-444f-ab3e-ed55f72c4627', metadata={'title': 'Glossary of cricket terms', 'summary': 'This is a general glossary of the terminology used in the sport of cricket. Where words in a sentence are also defined elsewhere in this article, they appear in italics. Certain aspects of cricket terminology are explained in more detail in cricket statistics and the naming of fielding positions is explained at fielding (cricket).\\nCricket is known for its rich terminology. Some terms are often thought to be arcane and humorous by those not familiar with the game.', 'source': 'https://en.wikipedia.org/wiki/Glossary_of_cricket_terms'}, page_content='in italics. Certain aspects of cricket terminology are explained in more detail in cricket statistics and the naming of fielding positions is explained at fielding (cricket).'),\n",
       " Document(id='1615dd04-ada8-41b5-b07c-5df9a4a15f94', metadata={'title': 'Test cricket', 'summary': 'Test cricket is a format of the sport of cricket, considered the game’s most prestigious and traditional form. Often referred to as the \"ultimate test\" of a cricketer\\'s skill, endurance, and temperament, it is a format of international cricket where two teams in white clothing, each representing a country, compete over a match that can last up to five days. It consists of four innings (two per team), with a minimum of ninety overs scheduled to be bowled per day, making it the sport with the longest playing time. A team wins the match by outscoring the opposition in the batting or bowl out in bowling, otherwise the match ends in a draw.\\nIt is contested by 12 teams which are the full-members of the International Cricket Council (ICC). The term \"test match\" was originally coined in 1861–62 but in a different context. Test cricket did not become an officially recognised format until the 1890s, but many international matches since 1877 have been retrospectively awarded Test status. The first such match took place at the Melbourne Cricket Ground (MCG) in March 1877 between teams which were then known as a Combined Australian XI and James Lillywhite\\'s XI, the latter a team of visiting English professionals. Matches between Australia and England were first called \"test matches\" in 1892. The first definitive list of retrospective Tests was written by South Australian journalist Clarence P. Moody two years later and, by the end of the century, had gained acceptance.\\nDay/night Tests were permitted by the ICC in 2012 and the first day/night match was between Australia and New Zealand at the Adelaide Oval in November 2015.\\nThe ICC World Test Championship is the international championship of Test cricket. It is a league competition run by the ICC, with its inaugural season starting in 2019. In line with the ICC\\'s goal of having one pinnacle tournament for each of the three formats of international cricket, it is the premier championship for Test cricket.\\n\\n', 'source': 'https://en.wikipedia.org/wiki/Test_cricket'}, page_content='the sport with the long'),\n",
       " Document(id='8ba25326-1af9-4366-a344-c25d5261adb6', metadata={'title': 'Test cricket', 'summary': 'Test cricket is a format of the sport of cricket, considered the game’s most prestigious and traditional form. Often referred to as the \"ultimate test\" of a cricketer\\'s skill, endurance, and temperament, it is a format of international cricket where two teams in white clothing, each representing a country, compete over a match that can last up to five days. It consists of four innings (two per team), with a minimum of ninety overs scheduled to be bowled per day, making it the sport with the longest playing time. A team wins the match by outscoring the opposition in the batting or bowl out in bowling, otherwise the match ends in a draw.\\nIt is contested by 12 teams which are the full-members of the International Cricket Council (ICC). The term \"test match\" was originally coined in 1861–62 but in a different context. Test cricket did not become an officially recognised format until the 1890s, but many international matches since 1877 have been retrospectively awarded Test status. The first such match took place at the Melbourne Cricket Ground (MCG) in March 1877 between teams which were then known as a Combined Australian XI and James Lillywhite\\'s XI, the latter a team of visiting English professionals. Matches between Australia and England were first called \"test matches\" in 1892. The first definitive list of retrospective Tests was written by South Australian journalist Clarence P. Moody two years later and, by the end of the century, had gained acceptance.\\nDay/night Tests were permitted by the ICC in 2012 and the first day/night match was between Australia and New Zealand at the Adelaide Oval in November 2015.\\nThe ICC World Test Championship is the international championship of Test cricket. It is a league competition run by the ICC, with its inaugural season starting in 2019. In line with the ICC\\'s goal of having one pinnacle tournament for each of the three formats of international cricket, it is the premier championship for Test cricket.\\n\\n', 'source': 'https://en.wikipedia.org/wiki/Test_cricket'}, page_content='over a match that can last up to five days. It consists of four innings (two per team), with a minimum of ninety overs scheduled to be bowled per day, making it the sport with the'),\n",
       " Document(id='9562e270-2359-45a3-b76a-e576d097e04e', metadata={'title': 'Test cricket', 'summary': 'Test cricket is a format of the sport of cricket, considered the game’s most prestigious and traditional form. Often referred to as the \"ultimate test\" of a cricketer\\'s skill, endurance, and temperament, it is a format of international cricket where two teams in white clothing, each representing a country, compete over a match that can last up to five days. It consists of four innings (two per team), with a minimum of ninety overs scheduled to be bowled per day, making it the sport with the longest playing time. A team wins the match by outscoring the opposition in the batting or bowl out in bowling, otherwise the match ends in a draw.\\nIt is contested by 12 teams which are the full-members of the International Cricket Council (ICC). The term \"test match\" was originally coined in 1861–62 but in a different context. Test cricket did not become an officially recognised format until the 1890s, but many international matches since 1877 have been retrospectively awarded Test status. The first such match took place at the Melbourne Cricket Ground (MCG) in March 1877 between teams which were then known as a Combined Australian XI and James Lillywhite\\'s XI, the latter a team of visiting English professionals. Matches between Australia and England were first called \"test matches\" in 1892. The first definitive list of retrospective Tests was written by South Australian journalist Clarence P. Moody two years later and, by the end of the century, had gained acceptance.\\nDay/night Tests were permitted by the ICC in 2012 and the first day/night match was between Australia and New Zealand at the Adelaide Oval in November 2015.\\nThe ICC World Test Championship is the international championship of Test cricket. It is a league competition run by the ICC, with its inaugural season starting in 2019. In line with the ICC\\'s goal of having one pinnacle tournament for each of the three formats of international cricket, it is the premier championship for Test cricket.\\n\\n', 'source': 'https://en.wikipedia.org/wiki/Test_cricket'}, page_content='Test cricket is a format of the sport of cricket, considered the game’s most prestigious and traditional form. Often referred to as the \"ultimate test\" of a cricketer\\'s skill,'),\n",
       " Document(id='26664d40-6d5c-462d-9eeb-7f25b0246c35', metadata={'title': 'Cricket', 'summary': 'Cricket is a bat-and-ball game played between two teams of eleven players on a field, at the centre of which is a 22-yard (20-metre; 66-foot) pitch with a wicket at each end, each comprising two bails (small sticks) balanced on three stumps. Two players from the batting team, the striker and nonstriker, stand in front of either wicket holding bats, while one player from the fielding team, the bowler, bowls the ball toward the striker\\'s wicket from the opposite end of the pitch. The striker\\'s goal is to hit the bowled ball with the bat and then switch places with the nonstriker, with the batting team scoring one run for each of these swaps. Runs are also scored when the ball reaches the boundary of the field or when the ball is bowled illegally.\\nThe fielding team aims to prevent runs by dismissing batters (so they are \"out\"). Dismissal can occur in various ways, including being bowled (when the ball hits the striker\\'s wicket and dislodges the bails), and by the fielding side either catching the ball after it is hit by the bat but before it hits the ground, or hitting a wicket with the ball before a batter can cross the crease line in front of the wicket. When ten batters have been dismissed, the innings (playing phase) ends and the teams swap roles. Forms of cricket range from traditional Test matches played over five days to the newer Twenty20 format (also known as T20), in which each team bats for a single innings of 20 overs (each \"over\" being a set of 6 fair opportunities for the batting team to score) and the game generally lasts three to four hours.\\nTraditionally, cricketers play in all-white kit, but in limited overs cricket, they wear club or team colours. In addition to the basic kit, some players wear protective gear to prevent injury caused by the ball, which is a hard, solid spheroid made of compressed leather with a slightly raised sewn seam enclosing a cork core layered with tightly wound string.\\nThe earliest known definite reference to cricket is to it being played in South East England in the mid-16th century. It spread globally with the expansion of the British Empire, with the first international matches in the second half of the 19th century. The game\\'s governing body is the International Cricket Council (ICC), which has over 100 members, twelve of which are full members who play Test matches. The game\\'s rules, the Laws of Cricket, are maintained by Marylebone Cricket Club (MCC) in London. The sport is followed primarily in South Asia, Australia, New Zealand, the United Kingdom, Southern Africa, and the West Indies.\\nWhile traditionally, cricket has largely been played by men, Women\\'s cricket has experienced large growth in the 21st century.\\nThe most successful side playing international cricket is Australia, which has won eight One Day International trophies, including six World Cups, more than any other country, and has been the top-rated Test side more than any other country.', 'source': 'https://en.wikipedia.org/wiki/Cricket'}, page_content='at each end, each comprising two bails (small sticks) balanced on three stumps. Two players from the batting team, the striker and nonstriker, stand in front of either wicket'),\n",
       " Document(id='2a649376-9e7f-4357-8b1e-8769dcec248c', metadata={'title': 'Glossary of cricket terms', 'summary': 'This is a general glossary of the terminology used in the sport of cricket. Where words in a sentence are also defined elsewhere in this article, they appear in italics. Certain aspects of cricket terminology are explained in more detail in cricket statistics and the naming of fielding positions is explained at fielding (cricket).\\nCricket is known for its rich terminology. Some terms are often thought to be arcane and humorous by those not familiar with the game.', 'source': 'https://en.wikipedia.org/wiki/Glossary_of_cricket_terms'}, page_content='== A ==\\n\\nAcross the line\\nA sho')]"
      ]
     },
     "execution_count": 20,
     "metadata": {},
     "output_type": "execute_result"
    }
   ],
   "source": [
    "question=\"what are top 3 facts about cricket ?\"\n",
    "relevant_docs=retriever.invoke(question)\n",
    "relevant_docs"
   ]
  },
  {
   "cell_type": "code",
   "execution_count": 21,
   "id": "95cd58ed",
   "metadata": {},
   "outputs": [
    {
     "data": {
      "text/plain": [
       "'in italics. Certain aspects of cricket terminology are explained in more detail in cricket statistics and the naming of fielding positions is explained at fielding (cricket).\\n\\nthe sport with the long\\n\\nover a match that can last up to five days. It consists of four innings (two per team), with a minimum of ninety overs scheduled to be bowled per day, making it the sport with the\\n\\nTest cricket is a format of the sport of cricket, considered the game’s most prestigious and traditional form. Often referred to as the \"ultimate test\" of a cricketer\\'s skill,\\n\\nat each end, each comprising two bails (small sticks) balanced on three stumps. Two players from the batting team, the striker and nonstriker, stand in front of either wicket\\n\\n== A ==\\n\\nAcross the line\\nA sho'"
      ]
     },
     "execution_count": 21,
     "metadata": {},
     "output_type": "execute_result"
    }
   ],
   "source": [
    "context_doc=\"\\n\\n\".join(doc.page_content for doc in relevant_docs)\n",
    "context_doc"
   ]
  },
  {
   "cell_type": "code",
   "execution_count": 22,
   "id": "ca1e1daa",
   "metadata": {},
   "outputs": [],
   "source": [
    "from langchain.prompts import PromptTemplate\n",
    "prompt=PromptTemplate(\n",
    "    template=\"You are an expert of cricket. Answer the given question based on the context provied ONLY.DO NOT HELLUCINATE.\" \\\n",
    "    \"Context:{context_doc} , Question:{question}\",\n",
    "    input_variables=['context_doc','question']\n",
    ")\n",
    "\n"
   ]
  },
  {
   "cell_type": "code",
   "execution_count": 23,
   "id": "7d68bafb",
   "metadata": {},
   "outputs": [],
   "source": [
    "from langchain_core.output_parsers import StrOutputParser\n",
    "parser=StrOutputParser()"
   ]
  },
  {
   "cell_type": "code",
   "execution_count": 25,
   "id": "41273ef5",
   "metadata": {},
   "outputs": [],
   "source": [
    "from  langchain_google_genai import GoogleGenerativeAI\n",
    "\n",
    "import os\n",
    "\n",
    "api_key=os.getenv(\"GOOGLE_API_KEY\")\n",
    "\n",
    "model=GoogleGenerativeAI(\n",
    "    model=\"gemini-1.5-flash\",\n",
    "    google_api_key=api_key\n",
    ")"
   ]
  },
  {
   "cell_type": "code",
   "execution_count": 26,
   "id": "aa973a30",
   "metadata": {},
   "outputs": [
    {
     "name": "stdout",
     "output_type": "stream",
     "text": [
      "Based solely on the provided text, here are three facts about cricket:\n",
      "\n",
      "1. Test cricket is considered the most prestigious and traditional form of the game.\n",
      "2. A Test match can last up to five days.\n",
      "3.  Each team plays two innings in a Test match.\n",
      "\n"
     ]
    }
   ],
   "source": [
    "chain=prompt|model|parser\n",
    "res=chain.invoke({\"context_doc\":context_doc,\"question\":question})\n",
    "print(res)"
   ]
  },
  {
   "cell_type": "code",
   "execution_count": null,
   "id": "c5d9787f",
   "metadata": {},
   "outputs": [],
   "source": []
  }
 ],
 "metadata": {
  "kernelspec": {
   "display_name": "gen_venv",
   "language": "python",
   "name": "python3"
  },
  "language_info": {
   "codemirror_mode": {
    "name": "ipython",
    "version": 3
   },
   "file_extension": ".py",
   "mimetype": "text/x-python",
   "name": "python",
   "nbconvert_exporter": "python",
   "pygments_lexer": "ipython3",
   "version": "3.12.4"
  }
 },
 "nbformat": 4,
 "nbformat_minor": 5
}
